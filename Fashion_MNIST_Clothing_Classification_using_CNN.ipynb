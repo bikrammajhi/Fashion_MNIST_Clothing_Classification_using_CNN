{
  "cells": [
    {
      "cell_type": "markdown",
      "metadata": {
        "id": "view-in-github",
        "colab_type": "text"
      },
      "source": [
        "<a href=\"https://colab.research.google.com/github/iiserkbikram/Fashion_MNIST_Clothing_Classification_using_CNN/blob/main/Fashion_MNIST_Clothing_Classification_using_CNN.ipynb\" target=\"_parent\"><img src=\"https://colab.research.google.com/assets/colab-badge.svg\" alt=\"Open In Colab\"/></a>"
      ]
    },
    {
      "cell_type": "markdown",
      "metadata": {
        "id": "DGTTYoI2yyaA"
      },
      "source": [
        "**Importing Libraries**"
      ]
    },
    {
      "cell_type": "code",
      "execution_count": 1,
      "metadata": {
        "id": "lhACoAj7vjSy"
      },
      "outputs": [],
      "source": [
        "# Prevents unnecessary warninigs\n",
        "import warnings\n",
        "warnings.simplefilter(action = 'ignore', category = FutureWarning)"
      ]
    },
    {
      "cell_type": "code",
      "execution_count": 2,
      "metadata": {
        "colab": {
          "base_uri": "https://localhost:8080/"
        },
        "id": "YAsgzF4OxaIN",
        "outputId": "f04888c5-2e93-43fa-b27d-60e8f4dd949a"
      },
      "outputs": [
        {
          "output_type": "stream",
          "name": "stdout",
          "text": [
            "2.9.2\n"
          ]
        }
      ],
      "source": [
        "# Tensorflow and tf.keras\n",
        "import tensorflow as tf\n",
        "\n",
        "# libraries \n",
        "import numpy as np\n",
        "import pandas as pd\n",
        "import matplotlib.pyplot as plt\n",
        "from sklearn.metrics import confusion_matrix, classification_report\n",
        "import os\n",
        "import subprocess\n",
        "import json\n",
        "import cv2\n",
        "import requests\n",
        "from tqdm import tqdm\n",
        "\n",
        "print(tf. __version__)\n"
      ]
    },
    {
      "cell_type": "code",
      "execution_count": 2,
      "metadata": {
        "id": "OteommNQx_K9"
      },
      "outputs": [],
      "source": []
    },
    {
      "cell_type": "markdown",
      "metadata": {
        "id": "xN6oIBL4y8Fm"
      },
      "source": [
        "# **Objective**\n",
        "To build a simple CNN (Convolution Neural Network) classifier by training model on Fashin MNIST dataset. The dataset consists of a training set of 60,000 examples and a test set of 10,000 examples. Each example is 28x28 grascale image, which associated with a label from 10 classes. The goal is to classify those images into apparel catagory amongst 10 catagories on which, the model will be trained. \n",
        "\n",
        "Here, we will build 2 deep learining Convolution Neural Network (CNN) classifier,\n",
        "\n",
        "\n",
        "*   A simple CNN from scratch\n",
        "*   Fine - tunning a pre-trained VGG-16 CNN\n",
        "\n",
        "\n",
        "\n"
      ]
    },
    {
      "cell_type": "markdown",
      "metadata": {
        "id": "r5yIkWMs03Ou"
      },
      "source": [
        "**Load Dataset**"
      ]
    },
    {
      "cell_type": "code",
      "execution_count": 3,
      "metadata": {
        "id": "W64P82tp0FlF",
        "colab": {
          "base_uri": "https://localhost:8080/"
        },
        "outputId": "1976d2ef-b158-45e8-a192-8fbf099c9e1c"
      },
      "outputs": [
        {
          "output_type": "stream",
          "name": "stdout",
          "text": [
            "Downloading data from https://storage.googleapis.com/tensorflow/tf-keras-datasets/train-labels-idx1-ubyte.gz\n",
            "29515/29515 [==============================] - 0s 0us/step\n",
            "Downloading data from https://storage.googleapis.com/tensorflow/tf-keras-datasets/train-images-idx3-ubyte.gz\n",
            "26421880/26421880 [==============================] - 0s 0us/step\n",
            "Downloading data from https://storage.googleapis.com/tensorflow/tf-keras-datasets/t10k-labels-idx1-ubyte.gz\n",
            "5148/5148 [==============================] - 0s 0us/step\n",
            "Downloading data from https://storage.googleapis.com/tensorflow/tf-keras-datasets/t10k-images-idx3-ubyte.gz\n",
            "4422102/4422102 [==============================] - 0s 0us/step\n"
          ]
        }
      ],
      "source": [
        "fashion_mnist = tf.keras.datasets.fashion_mnist\n",
        "(train_images, train_labels),(test_images, test_labels) = fashion_mnist.load_data()\n",
        "\n",
        "class_names = [\"T-shirt/top\",'Trouser','Pullover','Dress','Coat','Sandal','Shirt','Sneaker','Bag','Ankle boot']\n",
        "\n"
      ]
    },
    {
      "cell_type": "code",
      "execution_count": 4,
      "metadata": {
        "colab": {
          "base_uri": "https://localhost:8080/"
        },
        "id": "5UJn2j0I1w01",
        "outputId": "db4ac57f-59a9-45e4-f13e-393775f6ec0c"
      },
      "outputs": [
        {
          "output_type": "execute_result",
          "data": {
            "text/plain": [
              "(60000, 28, 28)"
            ]
          },
          "metadata": {},
          "execution_count": 4
        }
      ],
      "source": [
        "train_images.shape"
      ]
    },
    {
      "cell_type": "code",
      "execution_count": 5,
      "metadata": {
        "colab": {
          "base_uri": "https://localhost:8080/"
        },
        "id": "zJxwxUYM12hX",
        "outputId": "42c1782c-ef6f-41b0-e46d-3da2a240c25d"
      },
      "outputs": [
        {
          "output_type": "execute_result",
          "data": {
            "text/plain": [
              "(10000, 28, 28)"
            ]
          },
          "metadata": {},
          "execution_count": 5
        }
      ],
      "source": [
        "test_images.shape"
      ]
    },
    {
      "cell_type": "code",
      "execution_count": 6,
      "metadata": {
        "colab": {
          "base_uri": "https://localhost:8080/"
        },
        "id": "8bWPa5q315nl",
        "outputId": "1ad5e03b-ee4b-47b9-ae3c-09d3262ae976"
      },
      "outputs": [
        {
          "output_type": "execute_result",
          "data": {
            "text/plain": [
              "dtype('uint8')"
            ]
          },
          "metadata": {},
          "execution_count": 6
        }
      ],
      "source": [
        "train_images.dtype"
      ]
    },
    {
      "cell_type": "markdown",
      "metadata": {
        "id": "5Jka0EFY2ozX"
      },
      "source": [
        "# **Training a simple CNN Classifier from Scratch**"
      ]
    },
    {
      "cell_type": "markdown",
      "metadata": {
        "id": "9BicwLxg2aU3"
      },
      "source": [
        "**Reshaping Image Data for Modelling**"
      ]
    },
    {
      "cell_type": "code",
      "execution_count": 7,
      "metadata": {
        "id": "4bYcHLay1-Kd"
      },
      "outputs": [],
      "source": [
        "# reshaping the image before training the model\n",
        "train_images_gr = train_images.reshape(train_images.shape[0],28,28,1)\n",
        "test_images_gr = test_images.reshape(test_images.shape[0],28,28,1)\n"
      ]
    },
    {
      "cell_type": "code",
      "execution_count": 8,
      "metadata": {
        "colab": {
          "base_uri": "https://localhost:8080/"
        },
        "id": "gwRjTEGA2kml",
        "outputId": "48b33446-b7cb-47e3-af88-c59388e47707"
      },
      "outputs": [
        {
          "output_type": "execute_result",
          "data": {
            "text/plain": [
              "((60000, 28, 28, 1), (10000, 28, 28, 1))"
            ]
          },
          "metadata": {},
          "execution_count": 8
        }
      ],
      "source": [
        "train_images_gr.shape, test_images_gr.shape"
      ]
    },
    {
      "cell_type": "code",
      "execution_count": 9,
      "metadata": {
        "colab": {
          "base_uri": "https://localhost:8080/",
          "height": 425
        },
        "id": "frYJ1pLV3cFl",
        "outputId": "a5901db0-3b14-42b5-dc08-b2172c0ccd3e"
      },
      "outputs": [
        {
          "output_type": "display_data",
          "data": {
            "text/plain": [
              "<Figure size 864x504 with 18 Axes>"
            ],
            "image/png": "[encoded data removed]"
          },
          "metadata": {
            "needs_background": "light"
          }
        }
      ],
      "source": [
        "# Let's see some images\n",
        "fig, ax = plt.subplots(3,6, figsize=(12,7))\n",
        "c = 0\n",
        "for i in range(18):\n",
        "  idx = i//6\n",
        "  idy = i%6\n",
        "  ax[idx,idy].imshow(train_images_gr[i].reshape(28,28))\n",
        "  ax[idx, idy].set_title(class_names[train_labels[i]])"
      ]
    },
    {
      "cell_type": "markdown",
      "metadata": {
        "id": "BJ411eBX4zDf"
      },
      "source": [
        "**CNN Model Architechture**"
      ]
    },
    {
      "cell_type": "code",
      "execution_count": 10,
      "metadata": {
        "colab": {
          "base_uri": "https://localhost:8080/"
        },
        "id": "SXyEAJ7l4P6W",
        "outputId": "e34f6fa1-f82e-49e7-fd40-d60fa9f1a8f1"
      },
      "outputs": [
        {
          "output_type": "stream",
          "name": "stdout",
          "text": [
            "Model: \"sequential\"\n",
            "_________________________________________________________________\n",
            " Layer (type)                Output Shape              Param #   \n",
            "=================================================================\n",
            " conv2d (Conv2D)             (None, 26, 26, 16)        160       \n",
            "                                                                 \n",
            " max_pooling2d (MaxPooling2D  (None, 13, 13, 16)       0         \n",
            " )                                                               \n",
            "                                                                 \n",
            " conv2d_1 (Conv2D)           (None, 11, 11, 32)        4640      \n",
            "                                                                 \n",
            " max_pooling2d_1 (MaxPooling  (None, 5, 5, 32)         0         \n",
            " 2D)                                                             \n",
            "                                                                 \n",
            " flatten (Flatten)           (None, 800)               0         \n",
            "                                                                 \n",
            " dense (Dense)               (None, 256)               205056    \n",
            "                                                                 \n",
            " dropout (Dropout)           (None, 256)               0         \n",
            "                                                                 \n",
            " dense_1 (Dense)             (None, 256)               65792     \n",
            "                                                                 \n",
            " dropout_1 (Dropout)         (None, 256)               0         \n",
            "                                                                 \n",
            " dense_2 (Dense)             (None, 10)                2570      \n",
            "                                                                 \n",
            "=================================================================\n",
            "Total params: 278,218\n",
            "Trainable params: 278,218\n",
            "Non-trainable params: 0\n",
            "_________________________________________________________________\n"
          ]
        }
      ],
      "source": [
        "# INPUT shape\n",
        "INPUT_SHAPE = (28,28,1)\n",
        "\n",
        "# Sequential model\n",
        "model = tf.keras.models.Sequential()\n",
        "# Conv-pool layers - set 1\n",
        "model.add(tf.keras.layers.Conv2D(kernel_size = (3,3), strides = (1,1),padding='valid',\n",
        "                                 filters=16, activation='relu',input_shape=INPUT_SHAPE))\n",
        "model.add(tf.keras.layers.MaxPooling2D(pool_size = (2,2)))\n",
        "# Conv-pool layers - set 2\n",
        "model.add(tf.keras.layers.Conv2D(kernel_size = (3,3), strides=(1,1), padding=\"valid\",\n",
        "                                 filters=32, activation='relu'))\n",
        "model.add(tf.keras.layers.MaxPooling2D(pool_size = (2,2)))\n",
        "\n",
        "# Flattern layer\n",
        "model.add(tf.keras.layers.Flatten())\n",
        "\n",
        "# dense layers with some dropouts\n",
        "model.add(tf.keras.layers.Dense(256,activation = 'relu'))\n",
        "model.add(tf.keras.layers.Dropout(rate=0.3))\n",
        "model.add(tf.keras.layers.Dense(256, activation = 'relu'))\n",
        "model.add(tf.keras.layers.Dropout(rate=0.3))\n",
        "\n",
        "# Ouput layer\n",
        "model.add(tf.keras.layers.Dense(10, activation= 'sigmoid'))\n",
        "\n",
        "# Compile model\n",
        "model.compile(optimizer='adam',\n",
        "              loss='sparse_categorical_crossentropy',\n",
        "              metrics=['accuracy'])\n",
        "\n",
        "# View model layers\n",
        "model.summary()"
      ]
    },
    {
      "cell_type": "markdown",
      "metadata": {
        "id": "9URmsns6-qCY"
      },
      "source": [
        "**Model Training**"
      ]
    },
    {
      "cell_type": "markdown",
      "metadata": {
        "id": "KW6MM78Q-wtf"
      },
      "source": [
        "We will train our model for 100 epochs and graph the performace. We will also apply early-stopping to stop the model training immediately once we don't see an improvement in validation loss over the last 5 epochs using `EarlyStopping ` callback. "
      ]
    },
    {
      "cell_type": "code",
      "execution_count": 11,
      "metadata": {
        "colab": {
          "base_uri": "https://localhost:8080/"
        },
        "id": "FEZbiuDZ-tDF",
        "outputId": "8a97ee41-9768-4f90-a2b8-6a7b87dfe6df"
      },
      "outputs": [
        {
          "output_type": "stream",
          "name": "stdout",
          "text": [
            "Epoch 1/100\n",
            "844/844 [==============================] - 15s 7ms/step - loss: 0.5784 - accuracy: 0.7858 - val_loss: 0.3827 - val_accuracy: 0.8615\n",
            "Epoch 2/100\n",
            "844/844 [==============================] - 4s 5ms/step - loss: 0.3706 - accuracy: 0.8645 - val_loss: 0.3347 - val_accuracy: 0.8795\n",
            "Epoch 3/100\n",
            "844/844 [==============================] - 3s 4ms/step - loss: 0.3185 - accuracy: 0.8836 - val_loss: 0.2867 - val_accuracy: 0.8947\n",
            "Epoch 4/100\n",
            "844/844 [==============================] - 3s 4ms/step - loss: 0.2855 - accuracy: 0.8952 - val_loss: 0.2670 - val_accuracy: 0.8998\n",
            "Epoch 5/100\n",
            "844/844 [==============================] - 3s 4ms/step - loss: 0.2611 - accuracy: 0.9043 - val_loss: 0.2543 - val_accuracy: 0.9070\n",
            "Epoch 6/100\n",
            "844/844 [==============================] - 3s 4ms/step - loss: 0.2450 - accuracy: 0.9097 - val_loss: 0.2510 - val_accuracy: 0.9058\n",
            "Epoch 7/100\n",
            "844/844 [==============================] - 3s 4ms/step - loss: 0.2265 - accuracy: 0.9151 - val_loss: 0.2487 - val_accuracy: 0.9083\n",
            "Epoch 8/100\n",
            "844/844 [==============================] - 3s 4ms/step - loss: 0.2139 - accuracy: 0.9214 - val_loss: 0.2430 - val_accuracy: 0.9108\n",
            "Epoch 9/100\n",
            "844/844 [==============================] - 3s 4ms/step - loss: 0.2000 - accuracy: 0.9241 - val_loss: 0.2567 - val_accuracy: 0.9087\n",
            "Epoch 10/100\n",
            "844/844 [==============================] - 3s 4ms/step - loss: 0.1897 - accuracy: 0.9299 - val_loss: 0.2660 - val_accuracy: 0.9083\n",
            "Epoch 11/100\n",
            "844/844 [==============================] - 3s 4ms/step - loss: 0.1775 - accuracy: 0.9341 - val_loss: 0.2528 - val_accuracy: 0.9133\n",
            "Epoch 12/100\n",
            "844/844 [==============================] - 3s 4ms/step - loss: 0.1742 - accuracy: 0.9346 - val_loss: 0.2446 - val_accuracy: 0.9112\n",
            "Epoch 13/100\n",
            "833/844 [============================>.] - ETA: 0s - loss: 0.1607 - accuracy: 0.9389Restoring model weights from the end of the best epoch: 8.\n",
            "844/844 [==============================] - 3s 4ms/step - loss: 0.1611 - accuracy: 0.9388 - val_loss: 0.2449 - val_accuracy: 0.9177\n",
            "Epoch 13: early stopping\n"
          ]
        }
      ],
      "source": [
        "EPOCHS = 100\n",
        "\n",
        "# Normalise the image pixel value\n",
        "train_images_scaled = train_images_gr / 255\n",
        "\n",
        "es_callback = tf.keras.callbacks.EarlyStopping(monitor='val_loss', patience=5,\n",
        "                                               restore_best_weights=True,\n",
        "                                               verbose = 1)\n",
        "\n",
        "history = model.fit(train_images_scaled,train_labels,\n",
        "                    batch_size = 64,\n",
        "                    callbacks=[es_callback],\n",
        "                    validation_split = 0.1, epochs = EPOCHS,\n",
        "                    verbose = 1)"
      ]
    },
    {
      "cell_type": "markdown",
      "metadata": {
        "id": "PAzpLWzxC5ug"
      },
      "source": [
        "**Plotting the learning graphs**"
      ]
    },
    {
      "cell_type": "code",
      "execution_count": 12,
      "metadata": {
        "colab": {
          "base_uri": "https://localhost:8080/",
          "height": 265
        },
        "id": "brgLrl1iDBBg",
        "outputId": "565a83dd-8a63-49dc-bf08-c4fb5ecc20a8"
      },
      "outputs": [
        {
          "output_type": "display_data",
          "data": {
            "text/plain": [
              "<Figure size 720x288 with 2 Axes>"
            ],
            "image/png": "[encoded data removed]"
          },
          "metadata": {
            "needs_background": "light"
          }
        }
      ],
      "source": [
        "fig, ax = plt.subplots(1,2,figsize=(10,4))\n",
        "\n",
        "history_df = pd.DataFrame(history.history)\n",
        "history_df[['loss','val_loss']].plot(kind='line',ax=ax[0])\n",
        "history_df[['accuracy','val_accuracy']].plot(kind='line',ax=ax[1]);"
      ]
    },
    {
      "cell_type": "markdown",
      "metadata": {
        "id": "gO1f7hzbEQ7Q"
      },
      "source": [
        "**Prediction on Test Data**"
      ]
    },
    {
      "cell_type": "code",
      "execution_count": 13,
      "metadata": {
        "colab": {
          "base_uri": "https://localhost:8080/"
        },
        "id": "n6E04NP7D2dg",
        "outputId": "7762f14d-0332-4dad-966f-2a7206016028"
      },
      "outputs": [
        {
          "output_type": "stream",
          "name": "stdout",
          "text": [
            "313/313 [==============================] - 1s 3ms/step\n"
          ]
        }
      ],
      "source": [
        "# Normalising the pixel values\n",
        "test_images_scaled = test_images_gr / 255.\n",
        "\n",
        "predictions = model.predict(test_images_scaled)"
      ]
    },
    {
      "cell_type": "code",
      "execution_count": 14,
      "metadata": {
        "colab": {
          "base_uri": "https://localhost:8080/"
        },
        "id": "0SXd-OYiE6fO",
        "outputId": "8f48bcdc-2ab2-44a6-c64c-4c9048e8c42d"
      },
      "outputs": [
        {
          "output_type": "execute_result",
          "data": {
            "text/plain": [
              "array([[5.3946837e-04, 3.8400208e-06, 1.2025843e-05, 6.8042791e-06,\n",
              "        1.5317951e-07, 8.6181390e-01, 2.4917257e-05, 8.9130551e-01,\n",
              "        2.0195472e-04, 9.9999976e-01],\n",
              "       [5.9547120e-01, 2.3720703e-09, 9.9999940e-01, 2.2166056e-04,\n",
              "        6.2089115e-01, 1.2749607e-09, 7.6534623e-01, 1.1732243e-11,\n",
              "        2.9547350e-06, 1.9818480e-09],\n",
              "       [2.0719474e-02, 1.0000000e+00, 5.1153550e-04, 6.1653174e-02,\n",
              "        3.1989039e-05, 2.3727122e-07, 5.6277082e-04, 8.3358392e-10,\n",
              "        3.1288739e-05, 1.6535706e-12],\n",
              "       [3.1524955e-03, 1.0000000e+00, 1.4960328e-04, 1.3671334e-02,\n",
              "        8.5827865e-05, 2.2607798e-08, 5.0432468e-04, 4.5474260e-10,\n",
              "        3.3797485e-06, 1.1548865e-13]], dtype=float32)"
            ]
          },
          "metadata": {},
          "execution_count": 14
        }
      ],
      "source": [
        "predictions[:4]"
      ]
    },
    {
      "cell_type": "code",
      "execution_count": 15,
      "metadata": {
        "colab": {
          "base_uri": "https://localhost:8080/"
        },
        "id": "9RuWgza9E9Z5",
        "outputId": "56b0457d-f65e-4148-fc3d-c9c143f6d452"
      },
      "outputs": [
        {
          "output_type": "execute_result",
          "data": {
            "text/plain": [
              "array([9, 2, 1, 1])"
            ]
          },
          "metadata": {},
          "execution_count": 15
        }
      ],
      "source": [
        "# Find the max probabilty\n",
        "prediction_labels = np.argmax(predictions, axis = 1)\n",
        "prediction_labels[:4]"
      ]
    },
    {
      "cell_type": "code",
      "execution_count": 16,
      "metadata": {
        "colab": {
          "base_uri": "https://localhost:8080/"
        },
        "id": "IaBj3WLyFV5n",
        "outputId": "66eb93bf-5f65-4f56-d16f-25c0de6ae334"
      },
      "outputs": [
        {
          "output_type": "stream",
          "name": "stdout",
          "text": [
            "              precision    recall  f1-score   support\n",
            "\n",
            " T-shirt/top       0.84      0.88      0.86      1000\n",
            "     Trouser       1.00      0.98      0.99      1000\n",
            "    Pullover       0.84      0.90      0.87      1000\n",
            "       Dress       0.89      0.94      0.91      1000\n",
            "        Coat       0.86      0.87      0.86      1000\n",
            "      Sandal       0.98      0.98      0.98      1000\n",
            "       Shirt       0.79      0.66      0.72      1000\n",
            "     Sneaker       0.96      0.96      0.96      1000\n",
            "         Bag       0.97      0.98      0.98      1000\n",
            "  Ankle boot       0.96      0.98      0.97      1000\n",
            "\n",
            "    accuracy                           0.91     10000\n",
            "   macro avg       0.91      0.91      0.91     10000\n",
            "weighted avg       0.91      0.91      0.91     10000\n",
            "\n"
          ]
        }
      ],
      "source": [
        "# Classification chart\n",
        "print(classification_report(test_labels,prediction_labels, target_names=class_names))"
      ]
    },
    {
      "cell_type": "code",
      "execution_count": 17,
      "metadata": {
        "colab": {
          "base_uri": "https://localhost:8080/",
          "height": 459
        },
        "id": "-HV0MFUfF6jx",
        "outputId": "281c8761-e625-4f01-8c60-34219b655e90"
      },
      "outputs": [
        {
          "output_type": "execute_result",
          "data": {
            "text/plain": [
              "             T-shirt/top  Trouser  Pullover  Dress  Coat  Sandal  Shirt  \\\n",
              "T-shirt/top          877        0        18     29     1       1     69   \n",
              "Trouser                0      977         0     20     0       0      1   \n",
              "Pullover              15        0       900      8    34       0     43   \n",
              "Dress                 11        1         8    936    24       0     18   \n",
              "Coat                   1        0        66     24   868       0     41   \n",
              "Sandal                 0        0         0      0     0     977      0   \n",
              "Shirt                134        0        80     33    79       0    656   \n",
              "Sneaker                0        0         0      0     0      11      0   \n",
              "Bag                    4        1         3      3     2       2      1   \n",
              "Ankle boot             0        0         0      0     0       3      1   \n",
              "\n",
              "             Sneaker  Bag  Ankle boot  \n",
              "T-shirt/top        0    5           0  \n",
              "Trouser            0    2           0  \n",
              "Pullover           0    0           0  \n",
              "Dress              0    2           0  \n",
              "Coat               0    0           0  \n",
              "Sandal            16    0           7  \n",
              "Shirt              0   18           0  \n",
              "Sneaker          956    0          33  \n",
              "Bag                3  980           1  \n",
              "Ankle boot        20    0         976  "
            ],
            "text/html": [
              "\n",
              "  <div id=\"df-c8523b3a-18ef-4699-bda7-59650a4549cb\">\n",
              "    <div class=\"colab-df-container\">\n",
              "      <div>\n",
              "<style scoped>\n",
              "    .dataframe tbody tr th:only-of-type {\n",
              "        vertical-align: middle;\n",
              "    }\n",
              "\n",
              "    .dataframe tbody tr th {\n",
              "        vertical-align: top;\n",
              "    }\n",
              "\n",
              "    .dataframe thead th {\n",
              "        text-align: right;\n",
              "    }\n",
              "</style>\n",
              "<table border=\"1\" class=\"dataframe\">\n",
              "  <thead>\n",
              "    <tr style=\"text-align: right;\">\n",
              "      <th></th>\n",
              "      <th>T-shirt/top</th>\n",
              "      <th>Trouser</th>\n",
              "      <th>Pullover</th>\n",
              "      <th>Dress</th>\n",
              "      <th>Coat</th>\n",
              "      <th>Sandal</th>\n",
              "      <th>Shirt</th>\n",
              "      <th>Sneaker</th>\n",
              "      <th>Bag</th>\n",
              "      <th>Ankle boot</th>\n",
              "    </tr>\n",
              "  </thead>\n",
              "  <tbody>\n",
              "    <tr>\n",
              "      <th>T-shirt/top</th>\n",
              "      <td>877</td>\n",
              "      <td>0</td>\n",
              "      <td>18</td>\n",
              "      <td>29</td>\n",
              "      <td>1</td>\n",
              "      <td>1</td>\n",
              "      <td>69</td>\n",
              "      <td>0</td>\n",
              "      <td>5</td>\n",
              "      <td>0</td>\n",
              "    </tr>\n",
              "    <tr>\n",
              "      <th>Trouser</th>\n",
              "      <td>0</td>\n",
              "      <td>977</td>\n",
              "      <td>0</td>\n",
              "      <td>20</td>\n",
              "      <td>0</td>\n",
              "      <td>0</td>\n",
              "      <td>1</td>\n",
              "      <td>0</td>\n",
              "      <td>2</td>\n",
              "      <td>0</td>\n",
              "    </tr>\n",
              "    <tr>\n",
              "      <th>Pullover</th>\n",
              "      <td>15</td>\n",
              "      <td>0</td>\n",
              "      <td>900</td>\n",
              "      <td>8</td>\n",
              "      <td>34</td>\n",
              "      <td>0</td>\n",
              "      <td>43</td>\n",
              "      <td>0</td>\n",
              "      <td>0</td>\n",
              "      <td>0</td>\n",
              "    </tr>\n",
              "    <tr>\n",
              "      <th>Dress</th>\n",
              "      <td>11</td>\n",
              "      <td>1</td>\n",
              "      <td>8</td>\n",
              "      <td>936</td>\n",
              "      <td>24</td>\n",
              "      <td>0</td>\n",
              "      <td>18</td>\n",
              "      <td>0</td>\n",
              "      <td>2</td>\n",
              "      <td>0</td>\n",
              "    </tr>\n",
              "    <tr>\n",
              "      <th>Coat</th>\n",
              "      <td>1</td>\n",
              "      <td>0</td>\n",
              "      <td>66</td>\n",
              "      <td>24</td>\n",
              "      <td>868</td>\n",
              "      <td>0</td>\n",
              "      <td>41</td>\n",
              "      <td>0</td>\n",
              "      <td>0</td>\n",
              "      <td>0</td>\n",
              "    </tr>\n",
              "    <tr>\n",
              "      <th>Sandal</th>\n",
              "      <td>0</td>\n",
              "      <td>0</td>\n",
              "      <td>0</td>\n",
              "      <td>0</td>\n",
              "      <td>0</td>\n",
              "      <td>977</td>\n",
              "      <td>0</td>\n",
              "      <td>16</td>\n",
              "      <td>0</td>\n",
              "      <td>7</td>\n",
              "    </tr>\n",
              "    <tr>\n",
              "      <th>Shirt</th>\n",
              "      <td>134</td>\n",
              "      <td>0</td>\n",
              "      <td>80</td>\n",
              "      <td>33</td>\n",
              "      <td>79</td>\n",
              "      <td>0</td>\n",
              "      <td>656</td>\n",
              "      <td>0</td>\n",
              "      <td>18</td>\n",
              "      <td>0</td>\n",
              "    </tr>\n",
              "    <tr>\n",
              "      <th>Sneaker</th>\n",
              "      <td>0</td>\n",
              "      <td>0</td>\n",
              "      <td>0</td>\n",
              "      <td>0</td>\n",
              "      <td>0</td>\n",
              "      <td>11</td>\n",
              "      <td>0</td>\n",
              "      <td>956</td>\n",
              "      <td>0</td>\n",
              "      <td>33</td>\n",
              "    </tr>\n",
              "    <tr>\n",
              "      <th>Bag</th>\n",
              "      <td>4</td>\n",
              "      <td>1</td>\n",
              "      <td>3</td>\n",
              "      <td>3</td>\n",
              "      <td>2</td>\n",
              "      <td>2</td>\n",
              "      <td>1</td>\n",
              "      <td>3</td>\n",
              "      <td>980</td>\n",
              "      <td>1</td>\n",
              "    </tr>\n",
              "    <tr>\n",
              "      <th>Ankle boot</th>\n",
              "      <td>0</td>\n",
              "      <td>0</td>\n",
              "      <td>0</td>\n",
              "      <td>0</td>\n",
              "      <td>0</td>\n",
              "      <td>3</td>\n",
              "      <td>1</td>\n",
              "      <td>20</td>\n",
              "      <td>0</td>\n",
              "      <td>976</td>\n",
              "    </tr>\n",
              "  </tbody>\n",
              "</table>\n",
              "</div>\n",
              "      <button class=\"colab-df-convert\" onclick=\"convertToInteractive('df-c8523b3a-18ef-4699-bda7-59650a4549cb')\"\n",
              "              title=\"Convert this dataframe to an interactive table.\"\n",
              "              style=\"display:none;\">\n",
              "        \n",
              "  <svg xmlns=\"http://www.w3.org/2000/svg\" height=\"24px\"viewBox=\"0 0 24 24\"\n",
              "       width=\"24px\">\n",
              "    <path d=\"M0 0h24v24H0V0z\" fill=\"none\"/>\n",
              "    <path d=\"M18.56 5.44l.94 2.06.94-2.06 2.06-.94-2.06-.94-.94-2.06-.94 2.06-2.06.94zm-11 1L8.5 8.5l.94-2.06 2.06-.94-2.06-.94L8.5 2.5l-.94 2.06-2.06.94zm10 10l.94 2.06.94-2.06 2.06-.94-2.06-.94-.94-2.06-.94 2.06-2.06.94z\"/><path d=\"M17.41 7.96l-1.37-1.37c-.4-.4-.92-.59-1.43-.59-.52 0-1.04.2-1.43.59L10.3 9.45l-7.72 7.72c-.78.78-.78 2.05 0 2.83L4 21.41c.39.39.9.59 1.41.59.51 0 1.02-.2 1.41-.59l7.78-7.78 2.81-2.81c.8-.78.8-2.07 0-2.86zM5.41 20L4 18.59l7.72-7.72 1.47 1.35L5.41 20z\"/>\n",
              "  </svg>\n",
              "      </button>\n",
              "      \n",
              "  <style>\n",
              "    .colab-df-container {\n",
              "      display:flex;\n",
              "      flex-wrap:wrap;\n",
              "      gap: 12px;\n",
              "    }\n",
              "\n",
              "    .colab-df-convert {\n",
              "      background-color: #E8F0FE;\n",
              "      border: none;\n",
              "      border-radius: 50%;\n",
              "      cursor: pointer;\n",
              "      display: none;\n",
              "      fill: #1967D2;\n",
              "      height: 32px;\n",
              "      padding: 0 0 0 0;\n",
              "      width: 32px;\n",
              "    }\n",
              "\n",
              "    .colab-df-convert:hover {\n",
              "      background-color: #E2EBFA;\n",
              "      box-shadow: 0px 1px 2px rgba(60, 64, 67, 0.3), 0px 1px 3px 1px rgba(60, 64, 67, 0.15);\n",
              "      fill: #174EA6;\n",
              "    }\n",
              "\n",
              "    [theme=dark] .colab-df-convert {\n",
              "      background-color: #3B4455;\n",
              "      fill: #D2E3FC;\n",
              "    }\n",
              "\n",
              "    [theme=dark] .colab-df-convert:hover {\n",
              "      background-color: #434B5C;\n",
              "      box-shadow: 0px 1px 3px 1px rgba(0, 0, 0, 0.15);\n",
              "      filter: drop-shadow(0px 1px 2px rgba(0, 0, 0, 0.3));\n",
              "      fill: #FFFFFF;\n",
              "    }\n",
              "  </style>\n",
              "\n",
              "      <script>\n",
              "        const buttonEl =\n",
              "          document.querySelector('#df-c8523b3a-18ef-4699-bda7-59650a4549cb button.colab-df-convert');\n",
              "        buttonEl.style.display =\n",
              "          google.colab.kernel.accessAllowed ? 'block' : 'none';\n",
              "\n",
              "        async function convertToInteractive(key) {\n",
              "          const element = document.querySelector('#df-c8523b3a-18ef-4699-bda7-59650a4549cb');\n",
              "          const dataTable =\n",
              "            await google.colab.kernel.invokeFunction('convertToInteractive',\n",
              "                                                     [key], {});\n",
              "          if (!dataTable) return;\n",
              "\n",
              "          const docLinkHtml = 'Like what you see? Visit the ' +\n",
              "            '<a target=\"_blank\" href=https://colab.research.google.com/notebooks/data_table.ipynb>data table notebook</a>'\n",
              "            + ' to learn more about interactive tables.';\n",
              "          element.innerHTML = '';\n",
              "          dataTable['output_type'] = 'display_data';\n",
              "          await google.colab.output.renderOutput(dataTable, element);\n",
              "          const docLink = document.createElement('div');\n",
              "          docLink.innerHTML = docLinkHtml;\n",
              "          element.appendChild(docLink);\n",
              "        }\n",
              "      </script>\n",
              "    </div>\n",
              "  </div>\n",
              "  "
            ]
          },
          "metadata": {},
          "execution_count": 17
        }
      ],
      "source": [
        "# Confusion Matrix\n",
        "pd.DataFrame(confusion_matrix(test_labels, prediction_labels), index=class_names, columns = class_names)"
      ]
    },
    {
      "cell_type": "code",
      "execution_count": 18,
      "metadata": {
        "colab": {
          "base_uri": "https://localhost:8080/"
        },
        "id": "jbwBjF8GGXsr",
        "outputId": "0491dcbc-9489-42bf-cb7e-3bbe3aba6039"
      },
      "outputs": [
        {
          "output_type": "stream",
          "name": "stdout",
          "text": [
            "[9 2 1 1 6 1 4 6 5 7 4 5 7 3 4 1 2 4 8 0 2 5 7 9 1 4 6 0 9 3 8 8 3 3 8 0 7\n",
            " 5 7 9 6 1 3 7 6 7 2 1 2 2 4 4 5 8 2 2 8 4 8 0 7 7 8 5 1 1 2 3 9 8 7 0 2 6\n",
            " 2 3 1 2 8 4 1 8 5 9 5 0 3 2 0 6 5 3 6 7 1 8 0 1 4 2]\n"
          ]
        }
      ],
      "source": [
        "print(test_labels[:100])"
      ]
    },
    {
      "cell_type": "code",
      "execution_count": 19,
      "metadata": {
        "colab": {
          "base_uri": "https://localhost:8080/"
        },
        "id": "zBdk15OnG8NP",
        "outputId": "d7332b6b-8e81-4db2-9bc1-995509b05ef2"
      },
      "outputs": [
        {
          "output_type": "execute_result",
          "data": {
            "text/plain": [
              "array([9, 2, 1, ..., 8, 1, 5], dtype=uint8)"
            ]
          },
          "metadata": {},
          "execution_count": 19
        }
      ],
      "source": [
        "test_labels"
      ]
    },
    {
      "cell_type": "code",
      "execution_count": 20,
      "metadata": {
        "id": "93uZNakmG-Ql"
      },
      "outputs": [],
      "source": [
        "layer_outputs = [layer.output for layer in model.layers]\n",
        "activation_model = tf.keras.models.Model(inputs=model.input, outputs=layer_outputs)"
      ]
    },
    {
      "cell_type": "code",
      "execution_count": 21,
      "metadata": {
        "colab": {
          "base_uri": "https://localhost:8080/",
          "height": 577
        },
        "id": "pA2k9qxyHpNa",
        "outputId": "7208ce61-cbb4-4f1a-bb7d-800ba93f986f"
      },
      "outputs": [
        {
          "output_type": "stream",
          "name": "stdout",
          "text": [
            "1/1 [==============================] - 0s 105ms/step\n",
            "1/1 [==============================] - 0s 14ms/step\n",
            "1/1 [==============================] - 0s 12ms/step\n",
            "1/1 [==============================] - 0s 12ms/step\n",
            "1/1 [==============================] - 0s 13ms/step\n",
            "1/1 [==============================] - 0s 14ms/step\n",
            "1/1 [==============================] - 0s 13ms/step\n",
            "1/1 [==============================] - 0s 12ms/step\n",
            "1/1 [==============================] - 0s 12ms/step\n",
            "1/1 [==============================] - 0s 13ms/step\n",
            "1/1 [==============================] - 0s 14ms/step\n",
            "1/1 [==============================] - 0s 13ms/step\n"
          ]
        },
        {
          "output_type": "display_data",
          "data": {
            "text/plain": [
              "<Figure size 576x360 with 12 Axes>"
            ],
            "image/png": "[encoded data removed]"
          },
          "metadata": {
            "needs_background": "light"
          }
        }
      ],
      "source": [
        "f, axarr = plt.subplots(3,4, figsize=(8, 5))\n",
        "\n",
        "FIRST_IMAGE=0\n",
        "SECOND_IMAGE=23\n",
        "THIRD_IMAGE=28\n",
        "CONVOLUTION_NUMBER = 12\n",
        "\n",
        "for x in range(0,4):\n",
        "  f1 = activation_model.predict(test_images_scaled[FIRST_IMAGE].reshape(1, 28, 28, 1))[x]\n",
        "  axarr[0,x].imshow(f1[0, : , :, CONVOLUTION_NUMBER], cmap='binary_r')\n",
        "  axarr[0,x].grid(False)\n",
        "  axarr[0,x].set_title(class_names[test_labels[FIRST_IMAGE]])\n",
        "  f2 = activation_model.predict(test_images_scaled[SECOND_IMAGE].reshape(1, 28, 28, 1))[x]\n",
        "  axarr[1,x].imshow(f2[0, : , :, CONVOLUTION_NUMBER], cmap='binary_r')\n",
        "  axarr[1,x].grid(False)\n",
        "  axarr[1,x].set_title(class_names[test_labels[SECOND_IMAGE]])\n",
        "  f3 = activation_model.predict(test_images_scaled[THIRD_IMAGE].reshape(1, 28, 28, 1))[x]\n",
        "  axarr[2,x].imshow(f3[0, : , :, CONVOLUTION_NUMBER], cmap='binary_r')\n",
        "  axarr[2,x].grid(False)\n",
        "  axarr[2,x].set_title(class_names[test_labels[THIRD_IMAGE]])\n",
        "plt.tight_layout()"
      ]
    },
    {
      "cell_type": "code",
      "execution_count": 22,
      "metadata": {
        "colab": {
          "base_uri": "https://localhost:8080/",
          "height": 577
        },
        "id": "QydWe3i5Himv",
        "outputId": "71b9b90b-a4bc-4c15-9fc2-c1d3c9fe0538"
      },
      "outputs": [
        {
          "output_type": "stream",
          "name": "stdout",
          "text": [
            "1/1 [==============================] - 0s 13ms/step\n",
            "1/1 [==============================] - 0s 13ms/step\n",
            "1/1 [==============================] - 0s 15ms/step\n",
            "1/1 [==============================] - 0s 28ms/step\n",
            "1/1 [==============================] - 0s 14ms/step\n",
            "1/1 [==============================] - 0s 13ms/step\n",
            "1/1 [==============================] - 0s 13ms/step\n",
            "1/1 [==============================] - 0s 13ms/step\n",
            "1/1 [==============================] - 0s 14ms/step\n",
            "1/1 [==============================] - 0s 13ms/step\n",
            "1/1 [==============================] - 0s 12ms/step\n",
            "1/1 [==============================] - 0s 13ms/step\n"
          ]
        },
        {
          "output_type": "display_data",
          "data": {
            "text/plain": [
              "<Figure size 576x360 with 12 Axes>"
            ],
            "image/png": "[encoded data removed]"
          },
          "metadata": {
            "needs_background": "light"
          }
        }
      ],
      "source": [
        "f, axarr = plt.subplots(3,4, figsize=(8, 5))\n",
        "\n",
        "FIRST_IMAGE=2\n",
        "SECOND_IMAGE=3\n",
        "THIRD_IMAGE=5\n",
        "CONVOLUTION_NUMBER = 12\n",
        "\n",
        "for x in range(0,4):\n",
        "  f1 = activation_model.predict(test_images_scaled[FIRST_IMAGE].reshape(1, 28, 28, 1))[x]\n",
        "  axarr[0,x].imshow(f1[0, : , :, CONVOLUTION_NUMBER], cmap='binary_r')\n",
        "  axarr[0,x].grid(False)\n",
        "  axarr[0,x].set_title(class_names[test_labels[FIRST_IMAGE]])\n",
        "  f2 = activation_model.predict(test_images_scaled[SECOND_IMAGE].reshape(1, 28, 28, 1))[x]\n",
        "  axarr[1,x].imshow(f2[0, : , :, CONVOLUTION_NUMBER], cmap='binary_r')\n",
        "  axarr[1,x].grid(False)\n",
        "  axarr[1,x].set_title(class_names[test_labels[SECOND_IMAGE]])\n",
        "  f3 = activation_model.predict(test_images_scaled[THIRD_IMAGE].reshape(1, 28, 28, 1))[x]\n",
        "  axarr[2,x].imshow(f3[0, : , :, CONVOLUTION_NUMBER], cmap='binary_r')\n",
        "  axarr[2,x].grid(False)\n",
        "  axarr[2,x].set_title(class_names[test_labels[THIRD_IMAGE]])\n",
        "plt.tight_layout()"
      ]
    },
    {
      "cell_type": "code",
      "execution_count": 23,
      "metadata": {
        "colab": {
          "base_uri": "https://localhost:8080/",
          "height": 577
        },
        "id": "GzH0NUN8IlS5",
        "outputId": "d1086690-99fa-4b41-e41d-0c14672d6b86"
      },
      "outputs": [
        {
          "output_type": "stream",
          "name": "stdout",
          "text": [
            "1/1 [==============================] - 0s 13ms/step\n",
            "1/1 [==============================] - 0s 12ms/step\n",
            "1/1 [==============================] - 0s 14ms/step\n",
            "1/1 [==============================] - 0s 12ms/step\n",
            "1/1 [==============================] - 0s 12ms/step\n",
            "1/1 [==============================] - 0s 12ms/step\n",
            "1/1 [==============================] - 0s 14ms/step\n",
            "1/1 [==============================] - 0s 12ms/step\n",
            "1/1 [==============================] - 0s 12ms/step\n",
            "1/1 [==============================] - 0s 14ms/step\n",
            "1/1 [==============================] - 0s 12ms/step\n",
            "1/1 [==============================] - 0s 13ms/step\n"
          ]
        },
        {
          "output_type": "display_data",
          "data": {
            "text/plain": [
              "<Figure size 576x360 with 12 Axes>"
            ],
            "image/png": "[encoded data removed]"
          },
          "metadata": {
            "needs_background": "light"
          }
        }
      ],
      "source": [
        "f, axarr = plt.subplots(3,4, figsize=(8, 5))\n",
        "\n",
        "FIRST_IMAGE=2\n",
        "SECOND_IMAGE=3\n",
        "THIRD_IMAGE=5\n",
        "CONVOLUTION_NUMBER = 3\n",
        "\n",
        "for x in range(0,4):\n",
        "  f1 = activation_model.predict(test_images_scaled[FIRST_IMAGE].reshape(1, 28, 28, 1))[x]\n",
        "  axarr[0,x].imshow(f1[0, : , :, CONVOLUTION_NUMBER], cmap='binary_r')\n",
        "  axarr[0,x].grid(False)\n",
        "  axarr[0,x].set_title(class_names[test_labels[FIRST_IMAGE]])\n",
        "  f2 = activation_model.predict(test_images_scaled[SECOND_IMAGE].reshape(1, 28, 28, 1))[x]\n",
        "  axarr[1,x].imshow(f2[0, : , :, CONVOLUTION_NUMBER], cmap='binary_r')\n",
        "  axarr[1,x].grid(False)\n",
        "  axarr[1,x].set_title(class_names[test_labels[SECOND_IMAGE]])\n",
        "  f3 = activation_model.predict(test_images_scaled[THIRD_IMAGE].reshape(1, 28, 28, 1))[x]\n",
        "  axarr[2,x].imshow(f3[0, : , :, CONVOLUTION_NUMBER], cmap='binary_r')\n",
        "  axarr[2,x].grid(False)\n",
        "  axarr[2,x].set_title(class_names[test_labels[THIRD_IMAGE]])\n",
        "plt.tight_layout()"
      ]
    },
    {
      "cell_type": "markdown",
      "metadata": {
        "id": "GLAylDUMJD4j"
      },
      "source": [
        "# **Fine tuning a pre-trained VGG-16 CNN Model**\n",
        "We will use a VGG-19 model which was pre-trained on the ImageNet dataset by finetuning it on the Fashion-MNIST dataset.\n",
        "\n",
        "\n",
        "\n",
        "*   VGG-19 models is a 19-layer (Convolutional and fully connected) deep learining network built on the ImageNet database. \n",
        "*   16 convolutional layers using 3x3 convolution filter along with max pooling layers \n",
        "*   2 fully connected hidden layers of 4096 units in each layer followed by a dense layer of 1000 units\n",
        "*   We will be not needing the last three layers since we will be using our own fully connected dense layers to predict apparel classes\n",
        "\n",
        "\n",
        "\n",
        "\n",
        "\n",
        "\n"
      ]
    },
    {
      "cell_type": "markdown",
      "metadata": {
        "id": "CaxypwL4L0mZ"
      },
      "source": [
        "**Reshaping Image Data**\\\n",
        "We will convert the images to 3-channel images (image pixel tensors) as the VGG model was originally trained on RGB images."
      ]
    },
    {
      "cell_type": "code",
      "execution_count": 24,
      "metadata": {
        "colab": {
          "base_uri": "https://localhost:8080/"
        },
        "id": "JkD5KYLAI8p6",
        "outputId": "549093e7-fc9b-4189-ea2c-cf998c0c9d51"
      },
      "outputs": [
        {
          "output_type": "stream",
          "name": "stdout",
          "text": [
            "\n",
            "Train_images.shape: (60000, 28, 28, 3), of uint8\n",
            "Test_images.shape: (10000, 28, 28, 3), of uint8\n"
          ]
        }
      ],
      "source": [
        "train_images_3ch = np.stack([train_images]*3, axis=-1)\n",
        "test_images_3ch = np.stack([test_images]*3, axis=-1)\n",
        "\n",
        "print('\\nTrain_images.shape: {}, of {}'.format(train_images_3ch.shape, train_images_3ch.dtype))\n",
        "print('Test_images.shape: {}, of {}'.format(test_images_3ch.shape, test_images_3ch.dtype))"
      ]
    },
    {
      "cell_type": "markdown",
      "metadata": {
        "id": "kJSrs8BJNSis"
      },
      "source": [
        "**Resizing Image Data for Modelling**\\\n",
        "The minimum image size the VGG model expects is 32x32, hence we need to resize the images"
      ]
    },
    {
      "cell_type": "code",
      "execution_count": 25,
      "metadata": {
        "id": "Unc65PnFM-t3"
      },
      "outputs": [],
      "source": [
        "import cv2\n",
        "\n",
        "def resize_image_array(img,img_size_dims):\n",
        "  img = cv2.resize(img,dsize=img_size_dims,\n",
        "                   interpolation=cv2.INTER_CUBIC)\n",
        "  img = np.array(img,dtype=np.float32)\n",
        "  return img"
      ]
    },
    {
      "cell_type": "code",
      "execution_count": 26,
      "metadata": {
        "colab": {
          "base_uri": "https://localhost:8080/"
        },
        "id": "1eh6sxJHOFfv",
        "outputId": "69d23b16-3c74-45b5-f25e-287ec43fb3a7"
      },
      "outputs": [
        {
          "output_type": "stream",
          "name": "stdout",
          "text": [
            "CPU times: user 1.39 s, sys: 335 ms, total: 1.73 s\n",
            "Wall time: 1.77 s\n"
          ]
        }
      ],
      "source": [
        "%%time\n",
        "\n",
        "IMG_DIMS = (32, 32)\n",
        "\n",
        "train_images_3ch = [resize_image_array(img, img_size_dims=IMG_DIMS) for img in train_images_3ch]\n",
        "test_images_3ch = [resize_image_array(img, img_size_dims=IMG_DIMS) for img in test_images_3ch]\n",
        "\n"
      ]
    },
    {
      "cell_type": "code",
      "execution_count": 27,
      "metadata": {
        "id": "TQFoHt8nOTDh"
      },
      "outputs": [],
      "source": [
        "train_images_3ch = np.array(train_images_3ch)\n",
        "test_images_3ch = np.array(test_images_3ch)"
      ]
    },
    {
      "cell_type": "code",
      "execution_count": 28,
      "metadata": {
        "colab": {
          "base_uri": "https://localhost:8080/"
        },
        "id": "ObpIPuWlOR7h",
        "outputId": "771c7aa2-29fa-4fdd-8d1c-47d8fbecd3ab"
      },
      "outputs": [
        {
          "output_type": "stream",
          "name": "stdout",
          "text": [
            "\n",
            "Train_images.shape: (60000, 32, 32, 3), of float32\n",
            "Test_images.shape: (10000, 32, 32, 3), of float32\n"
          ]
        }
      ],
      "source": [
        "print('\\nTrain_images.shape: {}, of {}'.format(train_images_3ch.shape, train_images_3ch.dtype))\n",
        "print('Test_images.shape: {}, of {}'.format(test_images_3ch.shape, test_images_3ch.dtype))"
      ]
    },
    {
      "cell_type": "markdown",
      "metadata": {
        "id": "Fo5DDitlPBQq"
      },
      "source": [
        "# **CNN Model Architecture**\n",
        "We will build our CNN model architechture customizing the VGG-19 model."
      ]
    },
    {
      "cell_type": "code",
      "execution_count": 29,
      "metadata": {
        "colab": {
          "base_uri": "https://localhost:8080/"
        },
        "id": "jGZ8t1eJPNCj",
        "outputId": "fb7243f9-b74d-4784-cc61-57105de3284a"
      },
      "outputs": [
        {
          "output_type": "stream",
          "name": "stdout",
          "text": [
            "Downloading data from https://storage.googleapis.com/tensorflow/keras-applications/vgg19/vgg19_weights_tf_dim_ordering_tf_kernels_notop.h5\n",
            "80134624/80134624 [==============================] - 0s 0us/step\n",
            "Model: \"vgg19\"\n",
            "_________________________________________________________________\n",
            " Layer (type)                Output Shape              Param #   \n",
            "=================================================================\n",
            " input_1 (InputLayer)        [(None, 32, 32, 3)]       0         \n",
            "                                                                 \n",
            " block1_conv1 (Conv2D)       (None, 32, 32, 64)        1792      \n",
            "                                                                 \n",
            " block1_conv2 (Conv2D)       (None, 32, 32, 64)        36928     \n",
            "                                                                 \n",
            " block1_pool (MaxPooling2D)  (None, 16, 16, 64)        0         \n",
            "                                                                 \n",
            " block2_conv1 (Conv2D)       (None, 16, 16, 128)       73856     \n",
            "                                                                 \n",
            " block2_conv2 (Conv2D)       (None, 16, 16, 128)       147584    \n",
            "                                                                 \n",
            " block2_pool (MaxPooling2D)  (None, 8, 8, 128)         0         \n",
            "                                                                 \n",
            " block3_conv1 (Conv2D)       (None, 8, 8, 256)         295168    \n",
            "                                                                 \n",
            " block3_conv2 (Conv2D)       (None, 8, 8, 256)         590080    \n",
            "                                                                 \n",
            " block3_conv3 (Conv2D)       (None, 8, 8, 256)         590080    \n",
            "                                                                 \n",
            " block3_conv4 (Conv2D)       (None, 8, 8, 256)         590080    \n",
            "                                                                 \n",
            " block3_pool (MaxPooling2D)  (None, 4, 4, 256)         0         \n",
            "                                                                 \n",
            " block4_conv1 (Conv2D)       (None, 4, 4, 512)         1180160   \n",
            "                                                                 \n",
            " block4_conv2 (Conv2D)       (None, 4, 4, 512)         2359808   \n",
            "                                                                 \n",
            " block4_conv3 (Conv2D)       (None, 4, 4, 512)         2359808   \n",
            "                                                                 \n",
            " block4_conv4 (Conv2D)       (None, 4, 4, 512)         2359808   \n",
            "                                                                 \n",
            " block4_pool (MaxPooling2D)  (None, 2, 2, 512)         0         \n",
            "                                                                 \n",
            " block5_conv1 (Conv2D)       (None, 2, 2, 512)         2359808   \n",
            "                                                                 \n",
            " block5_conv2 (Conv2D)       (None, 2, 2, 512)         2359808   \n",
            "                                                                 \n",
            " block5_conv3 (Conv2D)       (None, 2, 2, 512)         2359808   \n",
            "                                                                 \n",
            " block5_conv4 (Conv2D)       (None, 2, 2, 512)         2359808   \n",
            "                                                                 \n",
            " block5_pool (MaxPooling2D)  (None, 1, 1, 512)         0         \n",
            "                                                                 \n",
            "=================================================================\n",
            "Total params: 20,024,384\n",
            "Trainable params: 20,024,384\n",
            "Non-trainable params: 0\n",
            "_________________________________________________________________\n"
          ]
        }
      ],
      "source": [
        "# define input shape\n",
        "INPUT_SHAPE = (32,32,3)\n",
        "\n",
        "# get the VGG model\n",
        "vgg_layers = tf.keras.applications.vgg19.VGG19(weights = 'imagenet', include_top=False,\n",
        "                                               input_shape=INPUT_SHAPE)\n",
        "vgg_layers.summary()"
      ]
    },
    {
      "cell_type": "markdown",
      "metadata": {
        "id": "vzE51kSQQKDy"
      },
      "source": [
        "**Set layers to trainable to enable fine-tunning**"
      ]
    },
    {
      "cell_type": "code",
      "execution_count": 30,
      "metadata": {
        "colab": {
          "base_uri": "https://localhost:8080/"
        },
        "id": "iygvEMYEQEaw",
        "outputId": "e208907c-99a1-4103-b6a4-1bc8f55f1a36"
      },
      "outputs": [
        {
          "output_type": "stream",
          "name": "stdout",
          "text": [
            "<keras.engine.input_layer.InputLayer object at 0x7fe484155790> True\n",
            "<keras.layers.convolutional.conv2d.Conv2D object at 0x7fe4e8d00100> True\n",
            "<keras.layers.convolutional.conv2d.Conv2D object at 0x7fe4e8d00340> True\n",
            "<keras.layers.pooling.max_pooling2d.MaxPooling2D object at 0x7fe46d7a3e50> True\n",
            "<keras.layers.convolutional.conv2d.Conv2D object at 0x7fe46c43aac0> True\n",
            "<keras.layers.convolutional.conv2d.Conv2D object at 0x7fe46c43f910> True\n",
            "<keras.layers.pooling.max_pooling2d.MaxPooling2D object at 0x7fe4e8d00370> True\n",
            "<keras.layers.convolutional.conv2d.Conv2D object at 0x7fe46d7cf1f0> True\n",
            "<keras.layers.convolutional.conv2d.Conv2D object at 0x7fe46c4185b0> True\n",
            "<keras.layers.convolutional.conv2d.Conv2D object at 0x7fe4e8c96130> True\n",
            "<keras.layers.convolutional.conv2d.Conv2D object at 0x7fe46d7e9160> True\n",
            "<keras.layers.pooling.max_pooling2d.MaxPooling2D object at 0x7fe46c4619d0> True\n",
            "<keras.layers.convolutional.conv2d.Conv2D object at 0x7fe4e8495820> True\n",
            "<keras.layers.convolutional.conv2d.Conv2D object at 0x7fe55ddc72b0> True\n",
            "<keras.layers.convolutional.conv2d.Conv2D object at 0x7fe46c456cd0> True\n",
            "<keras.layers.convolutional.conv2d.Conv2D object at 0x7fe46c461be0> True\n",
            "<keras.layers.pooling.max_pooling2d.MaxPooling2D object at 0x7fe46c476310> True\n",
            "<keras.layers.convolutional.conv2d.Conv2D object at 0x7fe46c456df0> True\n",
            "<keras.layers.convolutional.conv2d.Conv2D object at 0x7fe46c456310> True\n",
            "<keras.layers.convolutional.conv2d.Conv2D object at 0x7fe46c4563a0> True\n",
            "<keras.layers.convolutional.conv2d.Conv2D object at 0x7fe46c420fd0> True\n",
            "<keras.layers.pooling.max_pooling2d.MaxPooling2D object at 0x7fe46c40aac0> True\n"
          ]
        }
      ],
      "source": [
        "# Fine-tune all the layers\n",
        "for layer in vgg_layers.layers:\n",
        "  layer.trainable = True\n",
        "\n",
        "# Check the trainable status of the individual layers\n",
        "for layer in vgg_layers.layers:\n",
        "  print(layer, layer.trainable)"
      ]
    },
    {
      "cell_type": "markdown",
      "metadata": {
        "id": "qM_q8OU1RL3a"
      },
      "source": [
        "**Building CNN model on the top of VGG19**"
      ]
    },
    {
      "cell_type": "code",
      "execution_count": 31,
      "metadata": {
        "colab": {
          "base_uri": "https://localhost:8080/"
        },
        "id": "I3iAjvsIRBCR",
        "outputId": "a5a23b54-01df-411f-8bb5-e5c2fd3d7e46"
      },
      "outputs": [
        {
          "output_type": "stream",
          "name": "stdout",
          "text": [
            "Model: \"sequential_1\"\n",
            "_________________________________________________________________\n",
            " Layer (type)                Output Shape              Param #   \n",
            "=================================================================\n",
            " vgg19 (Functional)          (None, 1, 1, 512)         20024384  \n",
            "                                                                 \n",
            " dense_3 (Dense)             (None, 1, 1, 256)         131328    \n",
            "                                                                 \n",
            " dropout_2 (Dropout)         (None, 1, 1, 256)         0         \n",
            "                                                                 \n",
            " dense_4 (Dense)             (None, 1, 1, 256)         65792     \n",
            "                                                                 \n",
            " dropout_3 (Dropout)         (None, 1, 1, 256)         0         \n",
            "                                                                 \n",
            " dense_5 (Dense)             (None, 1, 1, 10)          2570      \n",
            "                                                                 \n",
            "=================================================================\n",
            "Total params: 20,224,074\n",
            "Trainable params: 20,224,074\n",
            "Non-trainable params: 0\n",
            "_________________________________________________________________\n"
          ]
        }
      ],
      "source": [
        "# Sequential mode\n",
        "model = tf.keras.models.Sequential()\n",
        "\n",
        "# Add the vgg convolutional base model\n",
        "model.add(vgg_layers)\n",
        "\n",
        "# Add dense layers with some dropout\n",
        "model.add(tf.keras.layers.Dense(256, activation='relu'))\n",
        "model.add(tf.keras.layers.Dropout(rate=0.3))\n",
        "model.add(tf.keras.layers.Dense(256, activation='relu'))\n",
        "model.add(tf.keras.layers.Dropout(rate=0.3))\n",
        "\n",
        "# Add output layer\n",
        "model.add(tf.keras.layers.Dense(10,activation='softmax'))\n",
        "\n",
        "# compile model\n",
        "model.compile(optimizer=tf.keras.optimizers.Adam(learning_rate = 2e-5),\n",
        "              loss = 'sparse_categorical_crossentropy',\n",
        "              metrics = ['accuracy'])\n",
        "# View model layer\n",
        "model.summary()\n",
        "\n"
      ]
    },
    {
      "cell_type": "code",
      "execution_count": 32,
      "metadata": {
        "colab": {
          "base_uri": "https://localhost:8080/"
        },
        "id": "0d7IQiOaSXvh",
        "outputId": "dc725f61-8c86-4db4-f263-0ba4f65b8b38"
      },
      "outputs": [
        {
          "metadata": {
            "tags": null
          },
          "name": "stdout",
          "output_type": "stream",
          "text": [
            "Epoch 1/100\n",
            "844/844 [==============================] - 42s 47ms/step - loss: 0.5610 - accuracy: 0.1108 - val_loss: 0.4063 - val_accuracy: 0.1116\n",
            "Epoch 2/100\n",
            "844/844 [==============================] - 39s 46ms/step - loss: 0.3271 - accuracy: 0.1126 - val_loss: 0.2740 - val_accuracy: 0.1113\n",
            "Epoch 3/100\n",
            "844/844 [==============================] - 39s 46ms/step - loss: 0.2737 - accuracy: 0.1128 - val_loss: 0.2687 - val_accuracy: 0.1120\n",
            "Epoch 4/100\n",
            "844/844 [==============================] - 39s 46ms/step - loss: 0.2454 - accuracy: 0.1129 - val_loss: 0.2411 - val_accuracy: 0.1121\n",
            "Epoch 5/100\n",
            "844/844 [==============================] - 39s 46ms/step - loss: 0.2187 - accuracy: 0.1129 - val_loss: 0.2286 - val_accuracy: 0.1119\n",
            "Epoch 6/100\n",
            "844/844 [==============================] - 39s 46ms/step - loss: 0.1940 - accuracy: 0.1132 - val_loss: 0.2105 - val_accuracy: 0.1120\n",
            "Epoch 7/100\n",
            "844/844 [==============================] - 39s 47ms/step - loss: 0.1814 - accuracy: 0.1133 - val_loss: 0.2074 - val_accuracy: 0.1120\n",
            "Epoch 8/100\n",
            "844/844 [==============================] - 39s 47ms/step - loss: 0.1581 - accuracy: 0.1130 - val_loss: 0.2313 - val_accuracy: 0.1121\n",
            "Epoch 9/100\n",
            "844/844 [==============================] - 39s 46ms/step - loss: 0.1461 - accuracy: 0.1131 - val_loss: 0.1999 - val_accuracy: 0.1122\n",
            "Epoch 10/100\n",
            "844/844 [==============================] - 39s 46ms/step - loss: 0.1301 - accuracy: 0.1129 - val_loss: 0.1999 - val_accuracy: 0.1119\n",
            "Epoch 11/100\n",
            "844/844 [==============================] - 39s 46ms/step - loss: 0.1147 - accuracy: 0.1136 - val_loss: 0.2179 - val_accuracy: 0.1121\n",
            "Epoch 12/100\n",
            "844/844 [==============================] - 39s 46ms/step - loss: 0.1034 - accuracy: 0.1138 - val_loss: 0.2198 - val_accuracy: 0.1118\n",
            "Epoch 13/100\n",
            "844/844 [==============================] - 39s 47ms/step - loss: 0.0856 - accuracy: 0.1135 - val_loss: 0.2403 - val_accuracy: 0.1121\n",
            "Epoch 14/100\n",
            "844/844 [==============================] - 39s 47ms/step - loss: 0.0772 - accuracy: 0.1141 - val_loss: 0.2699 - val_accuracy: 0.1120\n",
            "Epoch 15/100\n",
            "844/844 [==============================] - ETA: 0s - loss: 0.0701 - accuracy: 0.1135Restoring model weights from the end of the best epoch: 10.\n",
            "844/844 [==============================] - 39s 47ms/step - loss: 0.0701 - accuracy: 0.1135 - val_loss: 0.2415 - val_accuracy: 0.1122\n",
            "Epoch 15: early stopping\n"
          ]
        }
      ],
      "source": [
        "EPOCHS = 100\n",
        "\n",
        "# Normalising the pixel values\n",
        "train_images_3ch_scaled = train_images_3ch / 255\n",
        "es_callback = tf.keras.callbacks.EarlyStopping(monitor='val_loss', patience=5,\n",
        "                                               restore_best_weights = True,\n",
        "                                               verbose=1)\n",
        "\n",
        "history = model.fit(train_images_3ch_scaled, train_labels,\n",
        "                    batch_size = 64,\n",
        "                    callbacks = [es_callback],\n",
        "                    validation_split = 0.1, epochs = EPOCHS,\n",
        "                    verbose=1)"
      ]
    },
    {
      "cell_type": "markdown",
      "metadata": {
        "id": "D_MbEEmoUyPY"
      },
      "source": [
        "**Plot Learning Curves**"
      ]
    },
    {
      "cell_type": "code",
      "execution_count": 37,
      "metadata": {
        "id": "EQmz8wH3Uqia",
        "colab": {
          "base_uri": "https://localhost:8080/",
          "height": 265
        },
        "outputId": "29f6ce26-fc4a-4f24-ec30-105bd3f0cb66"
      },
      "outputs": [
        {
          "output_type": "display_data",
          "data": {
            "text/plain": [
              "<Figure size 720x288 with 2 Axes>"
            ],
            "image/png": "[encoded data removed]"
          },
          "metadata": {
            "needs_background": "light"
          }
        }
      ],
      "source": [
        "fig, ax = plt.subplots(1, 2, figsize=(10, 4))\n",
        "\n",
        "history_df = pd.DataFrame(history.history)\n",
        "history_df[['loss', 'val_loss']].plot(kind='line', ax=ax[0])\n",
        "history_df[['accuracy', 'val_accuracy']].plot(kind='line', ax=ax[1]);"
      ]
    },
    {
      "cell_type": "markdown",
      "metadata": {
        "id": "l2vV6O_tVix0"
      },
      "source": [
        "**Evalution of Model Performace on Test Data**"
      ]
    },
    {
      "cell_type": "code",
      "execution_count": 56,
      "metadata": {
        "id": "ES-WMYC0Vbrc",
        "colab": {
          "base_uri": "https://localhost:8080/"
        },
        "outputId": "862a6dac-4559-4df1-89d3-152864536689"
      },
      "outputs": [
        {
          "output_type": "stream",
          "name": "stdout",
          "text": [
            "313/313 [==============================] - 4s 12ms/step\n"
          ]
        }
      ],
      "source": [
        "test_images_3ch_scaled = test_images_3ch /255.\n",
        "predictions = model.predict(test_images_3ch_scaled)\n",
        "predictions = tf.squeeze(predictions)"
      ]
    },
    {
      "cell_type": "code",
      "execution_count": 57,
      "metadata": {
        "id": "FRZBRWnWWEkb",
        "colab": {
          "base_uri": "https://localhost:8080/"
        },
        "outputId": "17f4af44-e02e-40f5-f920-29a25d666d4d"
      },
      "outputs": [
        {
          "output_type": "execute_result",
          "data": {
            "text/plain": [
              "array([9, 2, 1, 1])"
            ]
          },
          "metadata": {},
          "execution_count": 57
        }
      ],
      "source": [
        "prediction_labels = np.argmax(predictions, axis=1)\n",
        "prediction_labels[:4]\n"
      ]
    },
    {
      "cell_type": "code",
      "execution_count": 59,
      "metadata": {
        "id": "UjRHxJfNWY40",
        "colab": {
          "base_uri": "https://localhost:8080/"
        },
        "outputId": "e8cf04a2-8df3-409b-9335-4e19ec1deb08"
      },
      "outputs": [
        {
          "output_type": "stream",
          "name": "stdout",
          "text": [
            "              precision    recall  f1-score   support\n",
            "\n",
            " T-shirt/top       0.89      0.88      0.88      1000\n",
            "     Trouser       0.99      0.99      0.99      1000\n",
            "    Pullover       0.92      0.87      0.89      1000\n",
            "       Dress       0.94      0.90      0.92      1000\n",
            "        Coat       0.83      0.93      0.87      1000\n",
            "      Sandal       0.98      0.99      0.99      1000\n",
            "       Shirt       0.80      0.79      0.79      1000\n",
            "     Sneaker       0.97      0.96      0.97      1000\n",
            "         Bag       0.99      0.99      0.99      1000\n",
            "  Ankle boot       0.97      0.98      0.98      1000\n",
            "\n",
            "    accuracy                           0.93     10000\n",
            "   macro avg       0.93      0.93      0.93     10000\n",
            "weighted avg       0.93      0.93      0.93     10000\n",
            "\n"
          ]
        }
      ],
      "source": [
        "print(classification_report(test_labels,prediction_labels, target_names=class_names))\n"
      ]
    },
    {
      "cell_type": "code",
      "execution_count": 60,
      "metadata": {
        "id": "gmh6QBtbWcSV",
        "colab": {
          "base_uri": "https://localhost:8080/",
          "height": 459
        },
        "outputId": "37f913d9-bac4-488c-8a6e-915c8b30f580"
      },
      "outputs": [
        {
          "output_type": "execute_result",
          "data": {
            "text/plain": [
              "             T-shirt/top  Trouser  Pullover  Dress  Coat  Sandal  Shirt  \\\n",
              "T-shirt/top          878        1        13     16     5       0     81   \n",
              "Trouser                1      986         1      8     0       0      2   \n",
              "Pullover              15        1       867      7    57       0     52   \n",
              "Dress                 13        2         7    896    57       0     25   \n",
              "Coat                   1        0        25      5   927       0     42   \n",
              "Sandal                 0        0         0      0     0     990      0   \n",
              "Shirt                 78        1        34     19    74       0    790   \n",
              "Sneaker                0        0         0      0     0       9      0   \n",
              "Bag                    1        0         0      2     3       3      0   \n",
              "Ankle boot             0        0         0      0     0       4      1   \n",
              "\n",
              "             Sneaker  Bag  Ankle boot  \n",
              "T-shirt/top        0    6           0  \n",
              "Trouser            0    2           0  \n",
              "Pullover           0    1           0  \n",
              "Dress              0    0           0  \n",
              "Coat               0    0           0  \n",
              "Sandal            10    0           0  \n",
              "Shirt              0    4           0  \n",
              "Sneaker          965    0          26  \n",
              "Bag                1  989           1  \n",
              "Ankle boot        18    0         977  "
            ],
            "text/html": [
              "\n",
              "  <div id=\"df-32a86768-4db9-4c8b-ac2e-8a1f066c3fbb\">\n",
              "    <div class=\"colab-df-container\">\n",
              "      <div>\n",
              "<style scoped>\n",
              "    .dataframe tbody tr th:only-of-type {\n",
              "        vertical-align: middle;\n",
              "    }\n",
              "\n",
              "    .dataframe tbody tr th {\n",
              "        vertical-align: top;\n",
              "    }\n",
              "\n",
              "    .dataframe thead th {\n",
              "        text-align: right;\n",
              "    }\n",
              "</style>\n",
              "<table border=\"1\" class=\"dataframe\">\n",
              "  <thead>\n",
              "    <tr style=\"text-align: right;\">\n",
              "      <th></th>\n",
              "      <th>T-shirt/top</th>\n",
              "      <th>Trouser</th>\n",
              "      <th>Pullover</th>\n",
              "      <th>Dress</th>\n",
              "      <th>Coat</th>\n",
              "      <th>Sandal</th>\n",
              "      <th>Shirt</th>\n",
              "      <th>Sneaker</th>\n",
              "      <th>Bag</th>\n",
              "      <th>Ankle boot</th>\n",
              "    </tr>\n",
              "  </thead>\n",
              "  <tbody>\n",
              "    <tr>\n",
              "      <th>T-shirt/top</th>\n",
              "      <td>878</td>\n",
              "      <td>1</td>\n",
              "      <td>13</td>\n",
              "      <td>16</td>\n",
              "      <td>5</td>\n",
              "      <td>0</td>\n",
              "      <td>81</td>\n",
              "      <td>0</td>\n",
              "      <td>6</td>\n",
              "      <td>0</td>\n",
              "    </tr>\n",
              "    <tr>\n",
              "      <th>Trouser</th>\n",
              "      <td>1</td>\n",
              "      <td>986</td>\n",
              "      <td>1</td>\n",
              "      <td>8</td>\n",
              "      <td>0</td>\n",
              "      <td>0</td>\n",
              "      <td>2</td>\n",
              "      <td>0</td>\n",
              "      <td>2</td>\n",
              "      <td>0</td>\n",
              "    </tr>\n",
              "    <tr>\n",
              "      <th>Pullover</th>\n",
              "      <td>15</td>\n",
              "      <td>1</td>\n",
              "      <td>867</td>\n",
              "      <td>7</td>\n",
              "      <td>57</td>\n",
              "      <td>0</td>\n",
              "      <td>52</td>\n",
              "      <td>0</td>\n",
              "      <td>1</td>\n",
              "      <td>0</td>\n",
              "    </tr>\n",
              "    <tr>\n",
              "      <th>Dress</th>\n",
              "      <td>13</td>\n",
              "      <td>2</td>\n",
              "      <td>7</td>\n",
              "      <td>896</td>\n",
              "      <td>57</td>\n",
              "      <td>0</td>\n",
              "      <td>25</td>\n",
              "      <td>0</td>\n",
              "      <td>0</td>\n",
              "      <td>0</td>\n",
              "    </tr>\n",
              "    <tr>\n",
              "      <th>Coat</th>\n",
              "      <td>1</td>\n",
              "      <td>0</td>\n",
              "      <td>25</td>\n",
              "      <td>5</td>\n",
              "      <td>927</td>\n",
              "      <td>0</td>\n",
              "      <td>42</td>\n",
              "      <td>0</td>\n",
              "      <td>0</td>\n",
              "      <td>0</td>\n",
              "    </tr>\n",
              "    <tr>\n",
              "      <th>Sandal</th>\n",
              "      <td>0</td>\n",
              "      <td>0</td>\n",
              "      <td>0</td>\n",
              "      <td>0</td>\n",
              "      <td>0</td>\n",
              "      <td>990</td>\n",
              "      <td>0</td>\n",
              "      <td>10</td>\n",
              "      <td>0</td>\n",
              "      <td>0</td>\n",
              "    </tr>\n",
              "    <tr>\n",
              "      <th>Shirt</th>\n",
              "      <td>78</td>\n",
              "      <td>1</td>\n",
              "      <td>34</td>\n",
              "      <td>19</td>\n",
              "      <td>74</td>\n",
              "      <td>0</td>\n",
              "      <td>790</td>\n",
              "      <td>0</td>\n",
              "      <td>4</td>\n",
              "      <td>0</td>\n",
              "    </tr>\n",
              "    <tr>\n",
              "      <th>Sneaker</th>\n",
              "      <td>0</td>\n",
              "      <td>0</td>\n",
              "      <td>0</td>\n",
              "      <td>0</td>\n",
              "      <td>0</td>\n",
              "      <td>9</td>\n",
              "      <td>0</td>\n",
              "      <td>965</td>\n",
              "      <td>0</td>\n",
              "      <td>26</td>\n",
              "    </tr>\n",
              "    <tr>\n",
              "      <th>Bag</th>\n",
              "      <td>1</td>\n",
              "      <td>0</td>\n",
              "      <td>0</td>\n",
              "      <td>2</td>\n",
              "      <td>3</td>\n",
              "      <td>3</td>\n",
              "      <td>0</td>\n",
              "      <td>1</td>\n",
              "      <td>989</td>\n",
              "      <td>1</td>\n",
              "    </tr>\n",
              "    <tr>\n",
              "      <th>Ankle boot</th>\n",
              "      <td>0</td>\n",
              "      <td>0</td>\n",
              "      <td>0</td>\n",
              "      <td>0</td>\n",
              "      <td>0</td>\n",
              "      <td>4</td>\n",
              "      <td>1</td>\n",
              "      <td>18</td>\n",
              "      <td>0</td>\n",
              "      <td>977</td>\n",
              "    </tr>\n",
              "  </tbody>\n",
              "</table>\n",
              "</div>\n",
              "      <button class=\"colab-df-convert\" onclick=\"convertToInteractive('df-32a86768-4db9-4c8b-ac2e-8a1f066c3fbb')\"\n",
              "              title=\"Convert this dataframe to an interactive table.\"\n",
              "              style=\"display:none;\">\n",
              "        \n",
              "  <svg xmlns=\"http://www.w3.org/2000/svg\" height=\"24px\"viewBox=\"0 0 24 24\"\n",
              "       width=\"24px\">\n",
              "    <path d=\"M0 0h24v24H0V0z\" fill=\"none\"/>\n",
              "    <path d=\"M18.56 5.44l.94 2.06.94-2.06 2.06-.94-2.06-.94-.94-2.06-.94 2.06-2.06.94zm-11 1L8.5 8.5l.94-2.06 2.06-.94-2.06-.94L8.5 2.5l-.94 2.06-2.06.94zm10 10l.94 2.06.94-2.06 2.06-.94-2.06-.94-.94-2.06-.94 2.06-2.06.94z\"/><path d=\"M17.41 7.96l-1.37-1.37c-.4-.4-.92-.59-1.43-.59-.52 0-1.04.2-1.43.59L10.3 9.45l-7.72 7.72c-.78.78-.78 2.05 0 2.83L4 21.41c.39.39.9.59 1.41.59.51 0 1.02-.2 1.41-.59l7.78-7.78 2.81-2.81c.8-.78.8-2.07 0-2.86zM5.41 20L4 18.59l7.72-7.72 1.47 1.35L5.41 20z\"/>\n",
              "  </svg>\n",
              "      </button>\n",
              "      \n",
              "  <style>\n",
              "    .colab-df-container {\n",
              "      display:flex;\n",
              "      flex-wrap:wrap;\n",
              "      gap: 12px;\n",
              "    }\n",
              "\n",
              "    .colab-df-convert {\n",
              "      background-color: #E8F0FE;\n",
              "      border: none;\n",
              "      border-radius: 50%;\n",
              "      cursor: pointer;\n",
              "      display: none;\n",
              "      fill: #1967D2;\n",
              "      height: 32px;\n",
              "      padding: 0 0 0 0;\n",
              "      width: 32px;\n",
              "    }\n",
              "\n",
              "    .colab-df-convert:hover {\n",
              "      background-color: #E2EBFA;\n",
              "      box-shadow: 0px 1px 2px rgba(60, 64, 67, 0.3), 0px 1px 3px 1px rgba(60, 64, 67, 0.15);\n",
              "      fill: #174EA6;\n",
              "    }\n",
              "\n",
              "    [theme=dark] .colab-df-convert {\n",
              "      background-color: #3B4455;\n",
              "      fill: #D2E3FC;\n",
              "    }\n",
              "\n",
              "    [theme=dark] .colab-df-convert:hover {\n",
              "      background-color: #434B5C;\n",
              "      box-shadow: 0px 1px 3px 1px rgba(0, 0, 0, 0.15);\n",
              "      filter: drop-shadow(0px 1px 2px rgba(0, 0, 0, 0.3));\n",
              "      fill: #FFFFFF;\n",
              "    }\n",
              "  </style>\n",
              "\n",
              "      <script>\n",
              "        const buttonEl =\n",
              "          document.querySelector('#df-32a86768-4db9-4c8b-ac2e-8a1f066c3fbb button.colab-df-convert');\n",
              "        buttonEl.style.display =\n",
              "          google.colab.kernel.accessAllowed ? 'block' : 'none';\n",
              "\n",
              "        async function convertToInteractive(key) {\n",
              "          const element = document.querySelector('#df-32a86768-4db9-4c8b-ac2e-8a1f066c3fbb');\n",
              "          const dataTable =\n",
              "            await google.colab.kernel.invokeFunction('convertToInteractive',\n",
              "                                                     [key], {});\n",
              "          if (!dataTable) return;\n",
              "\n",
              "          const docLinkHtml = 'Like what you see? Visit the ' +\n",
              "            '<a target=\"_blank\" href=https://colab.research.google.com/notebooks/data_table.ipynb>data table notebook</a>'\n",
              "            + ' to learn more about interactive tables.';\n",
              "          element.innerHTML = '';\n",
              "          dataTable['output_type'] = 'display_data';\n",
              "          await google.colab.output.renderOutput(dataTable, element);\n",
              "          const docLink = document.createElement('div');\n",
              "          docLink.innerHTML = docLinkHtml;\n",
              "          element.appendChild(docLink);\n",
              "        }\n",
              "      </script>\n",
              "    </div>\n",
              "  </div>\n",
              "  "
            ]
          },
          "metadata": {},
          "execution_count": 60
        }
      ],
      "source": [
        "pd.DataFrame(confusion_matrix(test_labels, prediction_labels), index=class_names, columns=class_names)"
      ]
    }
  ],
  "metadata": {
    "accelerator": "GPU",
    "colab": {
      "provenance": [],
      "authorship_tag": "ABX9TyPhhHQJLe25RYPimD3/cJxP",
      "include_colab_link": true
    },
    "gpuClass": "standard",
    "kernelspec": {
      "display_name": "Python 3",
      "name": "python3"
    },
    "language_info": {
      "name": "python"
    }
  },
  "nbformat": 4,
  "nbformat_minor": 0
}
